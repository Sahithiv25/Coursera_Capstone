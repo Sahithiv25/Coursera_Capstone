{
    "cells": [
        {
            "metadata": {
                "collapsed": true
            },
            "cell_type": "markdown",
            "source": "# Capstone Project: Segmenting and Clustering Toronto"
        },
        {
            "metadata": {},
            "cell_type": "markdown",
            "source": "## imports"
        },
        {
            "metadata": {},
            "cell_type": "code",
            "source": "import urllib.request\nfrom bs4 import BeautifulSoup\nimport pandas as pd",
            "execution_count": 2,
            "outputs": []
        },
        {
            "metadata": {},
            "cell_type": "markdown",
            "source": "## Scraping the Wikipedia page"
        },
        {
            "metadata": {},
            "cell_type": "code",
            "source": "url = \"https://en.wikipedia.org/wiki/List_of_postal_codes_of_Canada:_M\"\nreq = urllib.request.urlopen(url)\narticle = req.read().decode()",
            "execution_count": 3,
            "outputs": []
        },
        {
            "metadata": {},
            "cell_type": "markdown",
            "source": "We know the page has only one table, we use BeautifulSoup to find it"
        },
        {
            "metadata": {},
            "cell_type": "code",
            "source": "soup = BeautifulSoup(article, 'html.parser')\ntable = soup.find('table', class_='sortable')",
            "execution_count": 4,
            "outputs": []
        },
        {
            "metadata": {},
            "cell_type": "markdown",
            "source": "Now we parse the table into a Pandas dataframe"
        },
        {
            "metadata": {},
            "cell_type": "code",
            "source": "#headings\nths = table.find_all('th')\nheadings = [th.text.strip() for th in ths]\n\n#create dataframe\nneighbourhoods = pd.DataFrame(columns=headings)\nneighbourhoods\n\n# scrape rows into dataframe\nfor tr in table.find_all('tr'):\n    tds = tr.find_all('td')\n    if not tds:\n        continue                            #skips first row with headings\n    pc, b, n = [td.text.strip() for td in tds]\n    if b!=\"Not assigned\":\n        neighbourhoods = neighbourhoods.append({'Postcode': pc, 'Borough': b, 'Neighbourhood': n}, ignore_index=True)\n\nneighbourhoods.head()",
            "execution_count": 5,
            "outputs": [
                {
                    "output_type": "execute_result",
                    "execution_count": 5,
                    "data": {
                        "text/plain": "  Postal Code           Borough Neighborhood  \\\n0         NaN        North York          NaN   \n1         NaN        North York          NaN   \n2         NaN  Downtown Toronto          NaN   \n3         NaN        North York          NaN   \n4         NaN  Downtown Toronto          NaN   \n\n                                 Neighbourhood Postcode  \n0                                    Parkwoods      M3A  \n1                             Victoria Village      M4A  \n2                    Regent Park, Harbourfront      M5A  \n3             Lawrence Manor, Lawrence Heights      M6A  \n4  Queen's Park, Ontario Provincial Government      M7A  ",
                        "text/html": "<div>\n<style scoped>\n    .dataframe tbody tr th:only-of-type {\n        vertical-align: middle;\n    }\n\n    .dataframe tbody tr th {\n        vertical-align: top;\n    }\n\n    .dataframe thead th {\n        text-align: right;\n    }\n</style>\n<table border=\"1\" class=\"dataframe\">\n  <thead>\n    <tr style=\"text-align: right;\">\n      <th></th>\n      <th>Postal Code</th>\n      <th>Borough</th>\n      <th>Neighborhood</th>\n      <th>Neighbourhood</th>\n      <th>Postcode</th>\n    </tr>\n  </thead>\n  <tbody>\n    <tr>\n      <th>0</th>\n      <td>NaN</td>\n      <td>North York</td>\n      <td>NaN</td>\n      <td>Parkwoods</td>\n      <td>M3A</td>\n    </tr>\n    <tr>\n      <th>1</th>\n      <td>NaN</td>\n      <td>North York</td>\n      <td>NaN</td>\n      <td>Victoria Village</td>\n      <td>M4A</td>\n    </tr>\n    <tr>\n      <th>2</th>\n      <td>NaN</td>\n      <td>Downtown Toronto</td>\n      <td>NaN</td>\n      <td>Regent Park, Harbourfront</td>\n      <td>M5A</td>\n    </tr>\n    <tr>\n      <th>3</th>\n      <td>NaN</td>\n      <td>North York</td>\n      <td>NaN</td>\n      <td>Lawrence Manor, Lawrence Heights</td>\n      <td>M6A</td>\n    </tr>\n    <tr>\n      <th>4</th>\n      <td>NaN</td>\n      <td>Downtown Toronto</td>\n      <td>NaN</td>\n      <td>Queen's Park, Ontario Provincial Government</td>\n      <td>M7A</td>\n    </tr>\n  </tbody>\n</table>\n</div>"
                    },
                    "metadata": {}
                }
            ]
        },
        {
            "metadata": {},
            "cell_type": "markdown",
            "source": "## Cleaning up the dataframe\nCombine neighbourhoods for the same postcode, by concatenating the names. Then drop all duplicates arising"
        },
        {
            "metadata": {},
            "cell_type": "code",
            "source": "\nneighbourhoods['Neighbourhood'] = neighbourhoods.groupby('Postcode')['Neighbourhood'].transform(lambda x: \"%s\" % ', '.join(x)).values\nneighbourhoods = neighbourhoods.drop_duplicates().reset_index(drop=True)\nneighbourhoods.head()",
            "execution_count": 6,
            "outputs": [
                {
                    "output_type": "execute_result",
                    "execution_count": 6,
                    "data": {
                        "text/plain": "  Postal Code           Borough Neighborhood  \\\n0         NaN        North York          NaN   \n1         NaN        North York          NaN   \n2         NaN  Downtown Toronto          NaN   \n3         NaN        North York          NaN   \n4         NaN  Downtown Toronto          NaN   \n\n                                 Neighbourhood Postcode  \n0                                    Parkwoods      M3A  \n1                             Victoria Village      M4A  \n2                    Regent Park, Harbourfront      M5A  \n3             Lawrence Manor, Lawrence Heights      M6A  \n4  Queen's Park, Ontario Provincial Government      M7A  ",
                        "text/html": "<div>\n<style scoped>\n    .dataframe tbody tr th:only-of-type {\n        vertical-align: middle;\n    }\n\n    .dataframe tbody tr th {\n        vertical-align: top;\n    }\n\n    .dataframe thead th {\n        text-align: right;\n    }\n</style>\n<table border=\"1\" class=\"dataframe\">\n  <thead>\n    <tr style=\"text-align: right;\">\n      <th></th>\n      <th>Postal Code</th>\n      <th>Borough</th>\n      <th>Neighborhood</th>\n      <th>Neighbourhood</th>\n      <th>Postcode</th>\n    </tr>\n  </thead>\n  <tbody>\n    <tr>\n      <th>0</th>\n      <td>NaN</td>\n      <td>North York</td>\n      <td>NaN</td>\n      <td>Parkwoods</td>\n      <td>M3A</td>\n    </tr>\n    <tr>\n      <th>1</th>\n      <td>NaN</td>\n      <td>North York</td>\n      <td>NaN</td>\n      <td>Victoria Village</td>\n      <td>M4A</td>\n    </tr>\n    <tr>\n      <th>2</th>\n      <td>NaN</td>\n      <td>Downtown Toronto</td>\n      <td>NaN</td>\n      <td>Regent Park, Harbourfront</td>\n      <td>M5A</td>\n    </tr>\n    <tr>\n      <th>3</th>\n      <td>NaN</td>\n      <td>North York</td>\n      <td>NaN</td>\n      <td>Lawrence Manor, Lawrence Heights</td>\n      <td>M6A</td>\n    </tr>\n    <tr>\n      <th>4</th>\n      <td>NaN</td>\n      <td>Downtown Toronto</td>\n      <td>NaN</td>\n      <td>Queen's Park, Ontario Provincial Government</td>\n      <td>M7A</td>\n    </tr>\n  </tbody>\n</table>\n</div>"
                    },
                    "metadata": {}
                }
            ]
        },
        {
            "metadata": {},
            "cell_type": "markdown",
            "source": "Replace Neighbourhoods with 'Not assigned' to their Burough name"
        },
        {
            "metadata": {},
            "cell_type": "code",
            "source": "neighbourhoods['Neighbourhood'].replace(\"Not assigned\", neighbourhoods['Borough'], inplace=True)\nneighbourhoods.head()",
            "execution_count": 7,
            "outputs": [
                {
                    "output_type": "execute_result",
                    "execution_count": 7,
                    "data": {
                        "text/plain": "  Postal Code           Borough Neighborhood  \\\n0         NaN        North York          NaN   \n1         NaN        North York          NaN   \n2         NaN  Downtown Toronto          NaN   \n3         NaN        North York          NaN   \n4         NaN  Downtown Toronto          NaN   \n\n                                 Neighbourhood Postcode  \n0                                    Parkwoods      M3A  \n1                             Victoria Village      M4A  \n2                    Regent Park, Harbourfront      M5A  \n3             Lawrence Manor, Lawrence Heights      M6A  \n4  Queen's Park, Ontario Provincial Government      M7A  ",
                        "text/html": "<div>\n<style scoped>\n    .dataframe tbody tr th:only-of-type {\n        vertical-align: middle;\n    }\n\n    .dataframe tbody tr th {\n        vertical-align: top;\n    }\n\n    .dataframe thead th {\n        text-align: right;\n    }\n</style>\n<table border=\"1\" class=\"dataframe\">\n  <thead>\n    <tr style=\"text-align: right;\">\n      <th></th>\n      <th>Postal Code</th>\n      <th>Borough</th>\n      <th>Neighborhood</th>\n      <th>Neighbourhood</th>\n      <th>Postcode</th>\n    </tr>\n  </thead>\n  <tbody>\n    <tr>\n      <th>0</th>\n      <td>NaN</td>\n      <td>North York</td>\n      <td>NaN</td>\n      <td>Parkwoods</td>\n      <td>M3A</td>\n    </tr>\n    <tr>\n      <th>1</th>\n      <td>NaN</td>\n      <td>North York</td>\n      <td>NaN</td>\n      <td>Victoria Village</td>\n      <td>M4A</td>\n    </tr>\n    <tr>\n      <th>2</th>\n      <td>NaN</td>\n      <td>Downtown Toronto</td>\n      <td>NaN</td>\n      <td>Regent Park, Harbourfront</td>\n      <td>M5A</td>\n    </tr>\n    <tr>\n      <th>3</th>\n      <td>NaN</td>\n      <td>North York</td>\n      <td>NaN</td>\n      <td>Lawrence Manor, Lawrence Heights</td>\n      <td>M6A</td>\n    </tr>\n    <tr>\n      <th>4</th>\n      <td>NaN</td>\n      <td>Downtown Toronto</td>\n      <td>NaN</td>\n      <td>Queen's Park, Ontario Provincial Government</td>\n      <td>M7A</td>\n    </tr>\n  </tbody>\n</table>\n</div>"
                    },
                    "metadata": {}
                }
            ]
        },
        {
            "metadata": {},
            "cell_type": "markdown",
            "source": "This will result in the following amount of rows:"
        },
        {
            "metadata": {},
            "cell_type": "code",
            "source": "neighbourhoods.shape",
            "execution_count": 8,
            "outputs": [
                {
                    "output_type": "execute_result",
                    "execution_count": 8,
                    "data": {
                        "text/plain": "(103, 5)"
                    },
                    "metadata": {}
                }
            ]
        },
        {
            "metadata": {},
            "cell_type": "code",
            "source": "",
            "execution_count": null,
            "outputs": []
        }
    ],
    "metadata": {
        "kernelspec": {
            "name": "python3",
            "display_name": "Python 3.6",
            "language": "python"
        },
        "language_info": {
            "name": "python",
            "version": "3.6.9",
            "mimetype": "text/x-python",
            "codemirror_mode": {
                "name": "ipython",
                "version": 3
            },
            "pygments_lexer": "ipython3",
            "nbconvert_exporter": "python",
            "file_extension": ".py"
        }
    },
    "nbformat": 4,
    "nbformat_minor": 1
}